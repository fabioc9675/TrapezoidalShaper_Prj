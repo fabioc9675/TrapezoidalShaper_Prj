{
 "cells": [
  {
   "cell_type": "code",
   "execution_count": 1,
   "id": "d6e2c602",
   "metadata": {},
   "outputs": [],
   "source": [
    "from pynq import PL\n",
    "from pynq import Overlay\n",
    "from pynq import allocate\n",
    "\n",
    "import pandas as pd\n",
    "import numpy as np\n",
    "import matplotlib.pyplot as plt"
   ]
  },
  {
   "cell_type": "code",
   "execution_count": 2,
   "id": "61268a2a",
   "metadata": {},
   "outputs": [
    {
     "data": {
      "application/javascript": [
       "\n",
       "try {\n",
       "require(['notebook/js/codecell'], function(codecell) {\n",
       "  codecell.CodeCell.options_default.highlight_modes[\n",
       "      'magic_text/x-csrc'] = {'reg':[/^%%microblaze/]};\n",
       "  Jupyter.notebook.events.one('kernel_ready.Kernel', function(){\n",
       "      Jupyter.notebook.get_cells().map(function(cell){\n",
       "          if (cell.cell_type == 'code'){ cell.auto_highlight(); } }) ;\n",
       "  });\n",
       "});\n",
       "} catch (e) {};\n"
      ]
     },
     "metadata": {},
     "output_type": "display_data"
    },
    {
     "data": {
      "application/javascript": [
       "\n",
       "try {\n",
       "require(['notebook/js/codecell'], function(codecell) {\n",
       "  codecell.CodeCell.options_default.highlight_modes[\n",
       "      'magic_text/x-csrc'] = {'reg':[/^%%pybind11/]};\n",
       "  Jupyter.notebook.events.one('kernel_ready.Kernel', function(){\n",
       "      Jupyter.notebook.get_cells().map(function(cell){\n",
       "          if (cell.cell_type == 'code'){ cell.auto_highlight(); } }) ;\n",
       "  });\n",
       "});\n",
       "} catch (e) {};\n"
      ]
     },
     "metadata": {},
     "output_type": "display_data"
    }
   ],
   "source": [
    "PL.reset()\n",
    "xadc_stream = Overlay('circular.bit')\n",
    "\n",
    "dma      = xadc_stream.axi_dma_0\n",
    "dma_dpp  = xadc_stream.axi_dma_1\n",
    "xgpio    = xadc_stream.hier_gpio.axi_gpio_0\n",
    "xsel     = xadc_stream.hier_gpio.axi_gpio_sel\n",
    "xtrapz   = xadc_stream.hier_gpio.axi_gpio_trapz\n",
    "xcount   = xadc_stream.hier_gpio.axi_gpio_count\n",
    "xcmp     = xadc_stream.hier_gpio.axi_gpio_dpp_cmp\n",
    "xamp     = xadc_stream.hier_gpio.axi_gpio_amp\n",
    "xrst     = xadc_stream.hier_rst.axi_gpio_rst\n",
    "#xgpiol = xadc_stream.axi_gpio_low\n",
    "#xgpioh = xadc_stream.axi_gpio_high"
   ]
  },
  {
   "cell_type": "code",
   "execution_count": 165,
   "id": "0b540055",
   "metadata": {},
   "outputs": [],
   "source": [
    "xgpio.write(0,2000)\n",
    "xcmp.write(0,55000)\n",
    "xrst.write(0,0)\n",
    "xrst.write(0,7)"
   ]
  },
  {
   "cell_type": "code",
   "execution_count": 166,
   "id": "a90d8b84",
   "metadata": {},
   "outputs": [],
   "source": [
    "xsel.write(0,0)\n",
    "xrst.write(0,15)"
   ]
  },
  {
   "cell_type": "code",
   "execution_count": 44,
   "id": "4512c048",
   "metadata": {},
   "outputs": [],
   "source": [
    "buff_deep = 8300\n",
    "dpp_deep  = 2300\n",
    "\n",
    "input_buffer = allocate(shape=(buff_deep,), dtype=np.uint32)\n",
    "input_bufdpp = allocate(shape=(dpp_deep,), dtype=np.uint32)"
   ]
  },
  {
   "cell_type": "code",
   "execution_count": 143,
   "id": "e2491bf0",
   "metadata": {},
   "outputs": [],
   "source": [
    "dma.recvchannel.transfer(input_buffer)\n",
    "input_buffer1 = input_buffer\n",
    "for i in range(len(input_buffer1)):\n",
    "    if input_buffer1[i]>0.5:\n",
    "        input_buffer1[i] = input_buffer1[i]-1"
   ]
  },
  {
   "cell_type": "code",
   "execution_count": 144,
   "id": "6b13cb6b",
   "metadata": {},
   "outputs": [
    {
     "data": {
      "image/png": "[encoded data removed]",
      "text/plain": [
       "<Figure size 720x216 with 1 Axes>"
      ]
     },
     "metadata": {
      "needs_background": "light"
     },
     "output_type": "display_data"
    }
   ],
   "source": [
    "plt.figure(figsize=(10,3))\n",
    "plt.plot(range(0, buff_deep), input_buffer1)\n",
    "##plt.xlim(0, 4000)\n",
    "plt.show()"
   ]
  },
  {
   "cell_type": "code",
   "execution_count": 9,
   "id": "2d5ebf14",
   "metadata": {},
   "outputs": [
    {
     "name": "stdout",
     "output_type": "stream",
     "text": [
      "1081483\n"
     ]
    }
   ],
   "source": [
    "print(np.sum(input_buffer))"
   ]
  },
  {
   "cell_type": "code",
   "execution_count": 146,
   "id": "dc5ddb05",
   "metadata": {},
   "outputs": [
    {
     "data": {
      "image/png": "[encoded data removed]",
      "text/plain": [
       "<Figure size 720x216 with 1 Axes>"
      ]
     },
     "metadata": {
      "needs_background": "light"
     },
     "output_type": "display_data"
    },
    {
     "name": "stdout",
     "output_type": "stream",
     "text": [
      "Suma de histograma =  2072934\n"
     ]
    }
   ],
   "source": [
    "xsel.write(0,0)\n",
    "dma.recvchannel.transfer(input_buffer)\n",
    "input_buffer1 = input_buffer\n",
    "for i in range(len(input_buffer1)):\n",
    "    if input_buffer1[i]>0.5:\n",
    "        input_buffer1[i] = input_buffer1[i]-1\n",
    "\n",
    "plt.figure(figsize=(10,3))\n",
    "#plt.bar(range(0, 8300), input_buffer1)#, edgecolor='black')\n",
    "plt.plot(range(0, buff_deep), input_buffer1)\n",
    "plt.xlim(600, 2000)\n",
    "plt.show()\n",
    "\n",
    "#print(\"Numero de conteos = \", xgpio.read(8))\n",
    "print(\"Suma de histograma = \", np.sum(input_buffer))"
   ]
  },
  {
   "cell_type": "code",
   "execution_count": 11,
   "id": "8b83d17d",
   "metadata": {},
   "outputs": [],
   "source": [
    "# Convierte el array de NumPy a un DataFrame de Pandas\n",
    "df = pd.DataFrame(input_buffer)\n",
    "\n",
    "# Guarda el DataFrame como un archivo CSV\n",
    "df.to_csv('raw_signal.csv', index=False)"
   ]
  },
  {
   "cell_type": "code",
   "execution_count": 11,
   "id": "d1f4ab2f",
   "metadata": {},
   "outputs": [
    {
     "name": "stdout",
     "output_type": "stream",
     "text": [
      "[148   0   0 ...   0   0   0]\n"
     ]
    }
   ],
   "source": [
    "print(input_buffer)"
   ]
  },
  {
   "cell_type": "code",
   "execution_count": 12,
   "id": "e9d40831",
   "metadata": {},
   "outputs": [],
   "source": [
    "xsel.write(0,1)"
   ]
  },
  {
   "cell_type": "code",
   "execution_count": 147,
   "id": "0705ef54",
   "metadata": {},
   "outputs": [
    {
     "data": {
      "image/png": "[encoded data removed]",
      "text/plain": [
       "<Figure size 720x216 with 1 Axes>"
      ]
     },
     "metadata": {
      "needs_background": "light"
     },
     "output_type": "display_data"
    },
    {
     "name": "stdout",
     "output_type": "stream",
     "text": [
      "Suma de histograma =  2099517\n"
     ]
    }
   ],
   "source": [
    "xsel.write(0,1)\n",
    "dma.recvchannel.transfer(input_buffer)\n",
    "input_buffer1 = input_buffer\n",
    "for i in range(len(input_buffer1)):\n",
    "    if input_buffer1[i]>0.5:\n",
    "        input_buffer1[i] = input_buffer1[i]-1\n",
    "\n",
    "plt.figure(figsize=(10,3))\n",
    "#plt.bar(range(0, 8300), input_buffer1)#, edgecolor='black')\n",
    "plt.plot(range(0, buff_deep), input_buffer1)\n",
    "plt.xlim(600, 2000)\n",
    "plt.show()\n",
    "\n",
    "#print(\"Numero de conteos = \", xgpio.read(8))\n",
    "print(\"Suma de histograma = \", np.sum(input_buffer))"
   ]
  },
  {
   "cell_type": "code",
   "execution_count": 15,
   "id": "4b0528de",
   "metadata": {},
   "outputs": [],
   "source": [
    "# Convierte el array de NumPy a un DataFrame de Pandas\n",
    "df = pd.DataFrame(input_buffer)\n",
    "\n",
    "# Guarda el DataFrame como un archivo CSV\n",
    "df.to_csv('fir_signal.csv', index=False)"
   ]
  },
  {
   "cell_type": "code",
   "execution_count": 148,
   "id": "c275554b",
   "metadata": {},
   "outputs": [
    {
     "data": {
      "image/png": "[encoded data removed]",
      "text/plain": [
       "<Figure size 720x216 with 1 Axes>"
      ]
     },
     "metadata": {
      "needs_background": "light"
     },
     "output_type": "display_data"
    },
    {
     "name": "stdout",
     "output_type": "stream",
     "text": [
      "Suma de histograma =  260187\n"
     ]
    }
   ],
   "source": [
    "xsel.write(0,2)\n",
    "xtrapz.write(0,6)\n",
    "dma.recvchannel.transfer(input_buffer)\n",
    "input_buffer1 = input_buffer\n",
    "#for i in range(len(input_buffer1)):\n",
    "#    if input_buffer1[i]>0.5:\n",
    "#        input_buffer1[i] = input_buffer1[i]-1\n",
    "\n",
    "plt.figure(figsize=(10,3))\n",
    "#plt.bar(range(0, 8300), input_buffer1)#, edgecolor='black')\n",
    "plt.plot(range(0, buff_deep), input_buffer1)\n",
    "plt.xlim(600, 2000)\n",
    "plt.show()\n",
    "\n",
    "#print(\"Numero de conteos = \", xgpio.read(8))\n",
    "print(\"Suma de histograma = \", np.sum(input_buffer))"
   ]
  },
  {
   "cell_type": "code",
   "execution_count": 18,
   "id": "6f5b8990",
   "metadata": {},
   "outputs": [],
   "source": [
    "# Convierte el array de NumPy a un DataFrame de Pandas\n",
    "df = pd.DataFrame(input_buffer)\n",
    "\n",
    "# Guarda el DataFrame como un archivo CSV\n",
    "df.to_csv('trapz_signal.csv', index=False)"
   ]
  },
  {
   "cell_type": "code",
   "execution_count": 149,
   "id": "79a9adc4",
   "metadata": {},
   "outputs": [
    {
     "data": {
      "image/png": "[encoded data removed]",
      "text/plain": [
       "<Figure size 720x216 with 1 Axes>"
      ]
     },
     "metadata": {
      "needs_background": "light"
     },
     "output_type": "display_data"
    },
    {
     "name": "stdout",
     "output_type": "stream",
     "text": [
      "Suma de histograma =  5850824\n"
     ]
    }
   ],
   "source": [
    "xsel.write(0,2)\n",
    "xtrapz.write(0,6)\n",
    "dma.recvchannel.transfer(input_buffer)\n",
    "input_buffer1 = input_buffer/2**16\n",
    "for i in range(len(input_buffer1)):\n",
    "    if input_buffer1[i]>0.5:\n",
    "        input_buffer1[i] = input_buffer1[i]-1\n",
    "\n",
    "plt.figure(figsize=(10,3))\n",
    "#plt.bar(range(0, 8300), input_buffer1)#, edgecolor='black')\n",
    "plt.plot(range(0, buff_deep), input_buffer1)\n",
    "plt.xlim(600, 2000)\n",
    "plt.show()\n",
    "\n",
    "#print(\"Numero de conteos = \", xgpio.read(8))\n",
    "print(\"Suma de histograma = \", np.sum(input_buffer))"
   ]
  },
  {
   "cell_type": "code",
   "execution_count": 33,
   "id": "6f8e778f",
   "metadata": {},
   "outputs": [
    {
     "name": "stdout",
     "output_type": "stream",
     "text": [
      "Numero de conteos =  1615575\n"
     ]
    }
   ],
   "source": [
    "print(\"Numero de conteos = \", xcount.read(0))"
   ]
  },
  {
   "cell_type": "code",
   "execution_count": 178,
   "id": "cd369068",
   "metadata": {},
   "outputs": [],
   "source": [
    "xrst.write(0,0)\n",
    "xrst.write(0,15)"
   ]
  },
  {
   "cell_type": "code",
   "execution_count": 151,
   "id": "4f709537",
   "metadata": {},
   "outputs": [],
   "source": [
    "xrst.write(0,15)"
   ]
  },
  {
   "cell_type": "code",
   "execution_count": 173,
   "id": "25a3e5ac",
   "metadata": {},
   "outputs": [],
   "source": [
    "xtrapz.write(0,5)"
   ]
  },
  {
   "cell_type": "code",
   "execution_count": 172,
   "id": "d01841e3",
   "metadata": {},
   "outputs": [
    {
     "data": {
      "text/plain": [
       "4907"
      ]
     },
     "execution_count": 172,
     "metadata": {},
     "output_type": "execute_result"
    }
   ],
   "source": [
    "xamp.read(0)"
   ]
  },
  {
   "cell_type": "code",
   "execution_count": 183,
   "id": "c8a39a40",
   "metadata": {},
   "outputs": [
    {
     "data": {
      "image/png": "[encoded data removed]",
      "text/plain": [
       "<Figure size 720x216 with 1 Axes>"
      ]
     },
     "metadata": {
      "needs_background": "light"
     },
     "output_type": "display_data"
    },
    {
     "name": "stdout",
     "output_type": "stream",
     "text": [
      "Numero de conteos =  3343\n",
      "Suma de histograma =  3343\n"
     ]
    }
   ],
   "source": [
    "dma_dpp.recvchannel.transfer(input_bufdpp)\n",
    "#input_buffer1 = input_buffer/2**16\n",
    "\n",
    "plt.figure(figsize=(10,3))\n",
    "#plt.bar(range(0, dpp_deep), input_bufdpp)#, edgecolor='black')\n",
    "plt.plot(range(0, dpp_deep), input_bufdpp)\n",
    "#plt.xlim(500, 2000)\n",
    "#plt.ylim(-1, 20)\n",
    "plt.show()\n",
    "\n",
    "print(\"Numero de conteos = \", xcount.read(0))\n",
    "print(\"Suma de histograma = \", np.sum(input_bufdpp))"
   ]
  },
  {
   "cell_type": "code",
   "execution_count": 163,
   "id": "309869cb",
   "metadata": {},
   "outputs": [
    {
     "data": {
      "image/png": "[encoded data removed]",
      "text/plain": [
       "<Figure size 720x216 with 1 Axes>"
      ]
     },
     "metadata": {
      "needs_background": "light"
     },
     "output_type": "display_data"
    }
   ],
   "source": [
    "plt.figure(figsize=(10,3))\n",
    "plt.bar(range(500, 900), input_bufdpp[500:900])#, edgecolor='black')\n",
    "plt.show()"
   ]
  },
  {
   "cell_type": "code",
   "execution_count": 164,
   "id": "f6b513be",
   "metadata": {},
   "outputs": [],
   "source": [
    "# Convierte el array de NumPy a un DataFrame de Pandas\n",
    "df = pd.DataFrame(input_bufdpp)\n",
    "\n",
    "# Guarda el DataFrame como un archivo CSV\n",
    "df.to_csv('hist_signal_com_03.csv', index=False)"
   ]
  }
 ],
 "metadata": {
  "kernelspec": {
   "display_name": "Python 3 (ipykernel)",
   "language": "python",
   "name": "python3"
  },
  "language_info": {
   "codemirror_mode": {
    "name": "ipython",
    "version": 3
   },
   "file_extension": ".py",
   "mimetype": "text/x-python",
   "name": "python",
   "nbconvert_exporter": "python",
   "pygments_lexer": "ipython3",
   "version": "3.10.4"
  }
 },
 "nbformat": 4,
 "nbformat_minor": 5
}
