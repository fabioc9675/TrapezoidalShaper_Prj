{
 "cells": [
  {
   "cell_type": "markdown",
   "id": "7d7cbf52",
   "metadata": {},
   "source": [
    "# Implementacion de un MSA \n",
    "\n",
    "## Implementacion de un DPP mediante una FPGA\n",
    "\n",
    "El sistema implementado se encuentra todo embebido en tres IP Cores diseñados para PYNQ"
   ]
  },
  {
   "cell_type": "markdown",
   "id": "3e9ebd30",
   "metadata": {},
   "source": [
    "### Carga de librerias\n",
    "\n",
    "Aqui se cargan las librerias"
   ]
  },
  {
   "cell_type": "code",
   "execution_count": 1,
   "id": "2c3df996",
   "metadata": {},
   "outputs": [],
   "source": [
    "from pynq import PL\n",
    "from pynq import Overlay\n",
    "from pynq import allocate\n",
    "\n",
    "import pandas as pd\n",
    "import numpy as np\n",
    "import matplotlib.pyplot as plt"
   ]
  },
  {
   "cell_type": "markdown",
   "id": "206873e7",
   "metadata": {},
   "source": [
    "### Carga del Overlay\n",
    "\n",
    "Aqui se carga el overlay de la FPGA para el MSA"
   ]
  },
  {
   "cell_type": "code",
   "execution_count": 18,
   "id": "c84bf8f6",
   "metadata": {},
   "outputs": [],
   "source": [
    "PL.reset()\n",
    "xadc_stream = Overlay('counter.bit')"
   ]
  },
  {
   "cell_type": "code",
   "execution_count": 3,
   "id": "136b9bcf",
   "metadata": {},
   "outputs": [],
   "source": [
    "xadc_stream?"
   ]
  },
  {
   "cell_type": "markdown",
   "id": "3bd142c1",
   "metadata": {},
   "source": [
    "### Creacion de objetos\n",
    "\n",
    "Creacion de los objetos del Overlay para comunicarse con los diferentes perifericos que cuentan con AXI4"
   ]
  },
  {
   "cell_type": "code",
   "execution_count": 19,
   "id": "8949d7aa",
   "metadata": {},
   "outputs": [],
   "source": [
    "dma      = xadc_stream.axi_dma_0\n",
    "dma_dpp  = xadc_stream.axi_dma_1\n",
    "xdpp     = xadc_stream.AXI_DPP_Prepross_0"
   ]
  },
  {
   "cell_type": "markdown",
   "id": "89c0baac",
   "metadata": {},
   "source": [
    "### Configuracion del DPP\n",
    "\n",
    "Se crearan las funciones para escribir en los registros de configuracion"
   ]
  },
  {
   "cell_type": "code",
   "execution_count": 20,
   "id": "8885843c",
   "metadata": {},
   "outputs": [],
   "source": [
    "from pynq import DefaultIP\n",
    "\n",
    "class DPP_Status_and_Control(DefaultIP):\n",
    "    def __init__(self, description):\n",
    "        super().__init__(description=description)\n",
    "        bindto = ['xilinx.com:user:AXI_DPP_Prepross:1.0']\n",
    "\n",
    "    # definicion de funciones de reset y clear\n",
    "    def set_xadc(self):\n",
    "        old = self.read(0x00)\n",
    "        self.write(0x00, old | 0x01)\n",
    "    \n",
    "    def cls_xadc(self):\n",
    "        old = self.read(0x00)\n",
    "        self.write(0x00, old & 0xFE)\n",
    "        \n",
    "    def set_fir(self):\n",
    "        old = self.read(0x00)\n",
    "        self.write(0x00, old | 0x02)\n",
    "    \n",
    "    def cls_fir(self):\n",
    "        old = self.read(0x00)\n",
    "        self.write(0x00, old & 0xFD)\n",
    "        \n",
    "    def set_trapz(self):\n",
    "        old = self.read(0x00)\n",
    "        self.write(0x00, old | 0x04)\n",
    "    \n",
    "    def cls_trapz(self):\n",
    "        old = self.read(0x00)\n",
    "        self.write(0x00, old & 0xFB)\n",
    "        \n",
    "    def set_count(self):\n",
    "        old = self.read(0x00)\n",
    "        self.write(0x00, old | 0x08)\n",
    "    \n",
    "    def cls_count(self):\n",
    "        old = self.read(0x00)\n",
    "        self.write(0x00, old & 0xF7)\n",
    "        \n",
    "    def set_dppram(self):\n",
    "        old = self.read(0x00)\n",
    "        self.write(0x00, old | 0x10)\n",
    "    \n",
    "    def cls_dppram(self):\n",
    "        old = self.read(0x00)\n",
    "        self.write(0x00, old & 0xEF)\n",
    "    \n",
    "    # definicion de funciones de mux\n",
    "    def mux_dpp(self, mux):\n",
    "        self.write(0x04, mux)\n",
    "        \n",
    "    # definicion de funciones de slice de trapz\n",
    "    def slice_trapz_dpp(self, sli):\n",
    "        self.write(0x08, sli)\n",
    "        \n",
    "    # definicion de funcion de comparador de trigger\n",
    "    def comp_trg_dpp(self, comp_trg):\n",
    "        self.write(0x0C, comp_trg)\n",
    "        \n",
    "    # definicion de funcion de comparador de nivel\n",
    "    def comp_lvl_dpp(self, comp_lvl):\n",
    "        self.write(0x10, comp_lvl)\n",
    "        \n",
    "    # registros de lectura\n",
    "    def read_count_dpp(self):\n",
    "        return self.read(0x14)\n",
    "    \n",
    "    def read_amp_dpp(self):\n",
    "        return self.read(0x18) \n",
    "        \n",
    "        "
   ]
  },
  {
   "cell_type": "markdown",
   "id": "4eef08cb",
   "metadata": {},
   "source": [
    "## Configuracion del DPP Preprocesamiento\n",
    "\n",
    "Aqui se configuraran los niveles de comparacion\n",
    "- Comparacion de trigger\n",
    "- Comparacion de nivel\n",
    "\n",
    "Tambien se resetean todos los contadores y se setean de nuevo para funcionamiento"
   ]
  },
  {
   "cell_type": "code",
   "execution_count": 21,
   "id": "497b3421",
   "metadata": {},
   "outputs": [],
   "source": [
    "# Ajuste de los niveles de comparacion\n",
    "xdpp.comp_trg_dpp(2000)  # nivel de comparacion del trigger\n",
    "xdpp.comp_lvl_dpp(55000) # nivel de captura de eventos\n",
    "xdpp.slice_trapz_dpp(6)  # Slice en el dato de entrada\n",
    "\n",
    "# reset de todos los perifericos\n",
    "xdpp.cls_xadc()\n",
    "xdpp.cls_fir()\n",
    "xdpp.cls_trapz()\n",
    "xdpp.cls_count()\n",
    "xdpp.cls_dppram()\n",
    "\n",
    "# set de todos los perifericos\n",
    "xdpp.set_xadc()\n",
    "xdpp.set_fir()\n",
    "xdpp.set_trapz()\n",
    "xdpp.set_count()\n",
    "xdpp.set_dppram()\n"
   ]
  },
  {
   "cell_type": "markdown",
   "id": "1e801b7d",
   "metadata": {},
   "source": [
    "### Impresion de la señal original\n",
    "\n",
    "Aqui se captura y se imprime la señal original"
   ]
  },
  {
   "cell_type": "code",
   "execution_count": 22,
   "id": "ae6cdf99",
   "metadata": {},
   "outputs": [],
   "source": [
    "xdpp.mux_dpp(0)          # selector de Mux\n",
    "\n",
    "buff_deep = 8300\n",
    "dpp_deep  = 2300\n",
    "\n",
    "input_buffer = allocate(shape=(buff_deep,), dtype=np.uint32)\n",
    "input_bufdpp = allocate(shape=(dpp_deep,), dtype=np.uint32)"
   ]
  },
  {
   "cell_type": "code",
   "execution_count": 24,
   "id": "00e55009",
   "metadata": {},
   "outputs": [
    {
     "data": {
      "image/png": "[encoded data removed]",
      "text/plain": [
       "<Figure size 720x216 with 1 Axes>"
      ]
     },
     "metadata": {
      "needs_background": "light"
     },
     "output_type": "display_data"
    },
    {
     "name": "stdout",
     "output_type": "stream",
     "text": [
      "Suma de histograma =  1504532\n"
     ]
    }
   ],
   "source": [
    "xdpp.mux_dpp(0)\n",
    "dma.recvchannel.transfer(input_buffer)\n",
    "input_buffer1 = input_buffer\n",
    "for i in range(len(input_buffer1)):\n",
    "    if input_buffer1[i]>0.5:\n",
    "        input_buffer1[i] = input_buffer1[i]-1\n",
    "\n",
    "plt.figure(figsize=(10,3))\n",
    "#plt.bar(range(0, 8300), input_buffer1)#, edgecolor='black')\n",
    "plt.plot(range(0, buff_deep), input_buffer1)\n",
    "plt.xlim(600, 2000)\n",
    "plt.show()\n",
    "\n",
    "#print(\"Numero de conteos = \", xgpio.read(8))\n",
    "print(\"Suma de histograma = \", np.sum(input_buffer))"
   ]
  },
  {
   "cell_type": "code",
   "execution_count": 25,
   "id": "6be0034f",
   "metadata": {},
   "outputs": [],
   "source": [
    "# Convierte el array de NumPy a un DataFrame de Pandas\n",
    "df = pd.DataFrame(input_buffer)\n",
    "\n",
    "# Guarda el DataFrame como un archivo CSV\n",
    "df.to_csv('raw_signal.csv', index=False)"
   ]
  },
  {
   "cell_type": "markdown",
   "id": "8dc17833",
   "metadata": {},
   "source": [
    "### Impresion de la señal filtrada con filtro FIR\n",
    "\n",
    "Aqui se captura y se imprime la señal filtrada con el filtro FIR"
   ]
  },
  {
   "cell_type": "code",
   "execution_count": 27,
   "id": "3a6fb40c",
   "metadata": {},
   "outputs": [
    {
     "data": {
      "image/png": "[encoded data removed]",
      "text/plain": [
       "<Figure size 720x216 with 1 Axes>"
      ]
     },
     "metadata": {
      "needs_background": "light"
     },
     "output_type": "display_data"
    },
    {
     "name": "stdout",
     "output_type": "stream",
     "text": [
      "Suma de histograma =  178889\n"
     ]
    }
   ],
   "source": [
    "xdpp.mux_dpp(1)\n",
    "dma.recvchannel.transfer(input_buffer)\n",
    "input_buffer1 = input_buffer\n",
    "for i in range(len(input_buffer1)):\n",
    "    if input_buffer1[i]>0.5:\n",
    "        input_buffer1[i] = input_buffer1[i]-1\n",
    "\n",
    "plt.figure(figsize=(10,3))\n",
    "#plt.bar(range(0, 8300), input_buffer1)#, edgecolor='black')\n",
    "plt.plot(range(0, buff_deep), input_buffer1)\n",
    "plt.xlim(600, 2000)\n",
    "plt.show()\n",
    "\n",
    "#print(\"Numero de conteos = \", xgpio.read(8))\n",
    "print(\"Suma de histograma = \", np.sum(input_buffer))"
   ]
  },
  {
   "cell_type": "code",
   "execution_count": 28,
   "id": "d8afadc8",
   "metadata": {},
   "outputs": [],
   "source": [
    "# Convierte el array de NumPy a un DataFrame de Pandas\n",
    "df = pd.DataFrame(input_buffer)\n",
    "\n",
    "# Guarda el DataFrame como un archivo CSV\n",
    "df.to_csv('fir_signal.csv', index=False)"
   ]
  },
  {
   "cell_type": "markdown",
   "id": "538e2509",
   "metadata": {},
   "source": [
    "### Impresion de la señal de filtro Trapezoidal\n",
    "\n",
    "Aqui se captura y se imprime la señal de filtro trapezoidal"
   ]
  },
  {
   "cell_type": "code",
   "execution_count": 35,
   "id": "f769265d",
   "metadata": {},
   "outputs": [
    {
     "data": {
      "image/png": "[encoded data removed]",
      "text/plain": [
       "<Figure size 720x216 with 1 Axes>"
      ]
     },
     "metadata": {
      "needs_background": "light"
     },
     "output_type": "display_data"
    },
    {
     "name": "stdout",
     "output_type": "stream",
     "text": [
      "Suma de histograma =  4172823\n"
     ]
    }
   ],
   "source": [
    "xdpp.mux_dpp(2)\n",
    "xdpp.slice_trapz_dpp(6)\n",
    "dma.recvchannel.transfer(input_buffer)\n",
    "input_buffer1 = input_buffer/2**16\n",
    "for i in range(len(input_buffer1)):\n",
    "    if input_buffer1[i]>0.5:\n",
    "        input_buffer1[i] = input_buffer1[i]-1\n",
    "\n",
    "plt.figure(figsize=(10,3))\n",
    "#plt.bar(range(0, 8300), input_buffer1)#, edgecolor='black')\n",
    "plt.plot(range(0, buff_deep), input_buffer1)\n",
    "plt.xlim(600, 2000)\n",
    "plt.show()\n",
    "\n",
    "#print(\"Numero de conteos = \", xgpio.read(8))\n",
    "print(\"Suma de histograma = \", np.sum(input_buffer))"
   ]
  },
  {
   "cell_type": "code",
   "execution_count": 36,
   "id": "52c83ffe",
   "metadata": {},
   "outputs": [],
   "source": [
    "# Convierte el array de NumPy a un DataFrame de Pandas\n",
    "df = pd.DataFrame(input_buffer)\n",
    "\n",
    "# Guarda el DataFrame como un archivo CSV\n",
    "df.to_csv('trapz_signal.csv', index=False)"
   ]
  },
  {
   "cell_type": "markdown",
   "id": "5e02e88a",
   "metadata": {},
   "source": [
    "### Pregunta por el numero de conteos detectados\n",
    "\n",
    "Aqui se solicita el valor de conteos detectados por el sistema FPGA"
   ]
  },
  {
   "cell_type": "code",
   "execution_count": 37,
   "id": "7139ecdf",
   "metadata": {},
   "outputs": [
    {
     "name": "stdout",
     "output_type": "stream",
     "text": [
      "Numero de conteos =  347\n"
     ]
    }
   ],
   "source": [
    "print(\"Numero de conteos = \", xdpp.read_count_dpp())"
   ]
  },
  {
   "cell_type": "markdown",
   "id": "7e8a5994",
   "metadata": {},
   "source": [
    "### Creacion de histograma de energias\n",
    "\n",
    "Aqui se solicitan los datos discriminados de las energias y la impresion del histograma"
   ]
  },
  {
   "cell_type": "code",
   "execution_count": 38,
   "id": "f5c90840",
   "metadata": {},
   "outputs": [
    {
     "name": "stdout",
     "output_type": "stream",
     "text": [
      "Nivel de altura =  10006\n"
     ]
    }
   ],
   "source": [
    "print(\"Nivel de altura = \", xdpp.read_amp_dpp())"
   ]
  },
  {
   "cell_type": "code",
   "execution_count": 45,
   "id": "7b70a290",
   "metadata": {},
   "outputs": [
    {
     "data": {
      "image/png": "[encoded data removed]",
      "text/plain": [
       "<Figure size 720x216 with 1 Axes>"
      ]
     },
     "metadata": {
      "needs_background": "light"
     },
     "output_type": "display_data"
    },
    {
     "name": "stdout",
     "output_type": "stream",
     "text": [
      "Numero de conteos =  721\n",
      "Suma de histograma =  720\n"
     ]
    }
   ],
   "source": [
    "dma_dpp.recvchannel.transfer(input_bufdpp)\n",
    "#input_buffer1 = input_buffer/2**16\n",
    "\n",
    "plt.figure(figsize=(10,3))\n",
    "#plt.bar(range(0, dpp_deep), input_bufdpp)#, edgecolor='black')\n",
    "plt.plot(range(0, dpp_deep), input_bufdpp)\n",
    "#plt.xlim(500, 2000)\n",
    "#plt.ylim(-1, 20)\n",
    "plt.show()\n",
    "\n",
    "print(\"Numero de conteos = \", xdpp.read_count_dpp())\n",
    "print(\"Suma de histograma = \", np.sum(input_bufdpp))"
   ]
  },
  {
   "cell_type": "code",
   "execution_count": 46,
   "id": "5c787d6b",
   "metadata": {},
   "outputs": [
    {
     "data": {
      "image/png": "[encoded data removed]",
      "text/plain": [
       "<Figure size 720x216 with 1 Axes>"
      ]
     },
     "metadata": {
      "needs_background": "light"
     },
     "output_type": "display_data"
    }
   ],
   "source": [
    "plt.figure(figsize=(10,3))\n",
    "plt.bar(range(500, 900), input_bufdpp[500:900])#, edgecolor='black')\n",
    "plt.show()"
   ]
  },
  {
   "cell_type": "code",
   "execution_count": 47,
   "id": "da2500a9",
   "metadata": {},
   "outputs": [],
   "source": [
    "# Convierte el array de NumPy a un DataFrame de Pandas\n",
    "df = pd.DataFrame(input_bufdpp)\n",
    "\n",
    "# Guarda el DataFrame como un archivo CSV\n",
    "df.to_csv('hist_signal_com_03.csv', index=False)"
   ]
  },
  {
   "cell_type": "markdown",
   "id": "63b80a07",
   "metadata": {},
   "source": [
    "## Fin del archivo\n",
    "\n",
    "**Autor**: Fabian Andres Castaño"
   ]
  }
 ],
 "metadata": {
  "kernelspec": {
   "display_name": "Python 3 (ipykernel)",
   "language": "python",
   "name": "python3"
  },
  "language_info": {
   "codemirror_mode": {
    "name": "ipython",
    "version": 3
   },
   "file_extension": ".py",
   "mimetype": "text/x-python",
   "name": "python",
   "nbconvert_exporter": "python",
   "pygments_lexer": "ipython3",
   "version": "3.10.4"
  }
 },
 "nbformat": 4,
 "nbformat_minor": 5
}
