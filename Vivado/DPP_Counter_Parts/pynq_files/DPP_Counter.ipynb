{
 "cells": [
  {
   "cell_type": "code",
   "execution_count": 6,
   "id": "d6e2c602",
   "metadata": {},
   "outputs": [],
   "source": [
    "from pynq import PL\n",
    "from pynq import Overlay\n",
    "from pynq import allocate\n",
    "\n",
    "import numpy as np\n",
    "import matplotlib.pyplot as plt"
   ]
  },
  {
   "cell_type": "code",
   "execution_count": 7,
   "id": "61268a2a",
   "metadata": {},
   "outputs": [],
   "source": [
    "PL.reset()\n",
    "xadc_stream = Overlay('circular_1.bit')\n",
    "\n",
    "dma    = xadc_stream.axi_dma_0\n",
    "xgpio  = xadc_stream.axi_gpio_0\n",
    "#xgpiol = xadc_stream.axi_gpio_low\n",
    "#xgpioh = xadc_stream.axi_gpio_high"
   ]
  },
  {
   "cell_type": "code",
   "execution_count": 99,
   "id": "df58cbc9",
   "metadata": {},
   "outputs": [
    {
     "data": {
      "text/plain": [
       "13"
      ]
     },
     "execution_count": 99,
     "metadata": {},
     "output_type": "execute_result"
    }
   ],
   "source": [
    "xgpio.read(8)"
   ]
  },
  {
   "cell_type": "code",
   "execution_count": 8,
   "id": "0b540055",
   "metadata": {},
   "outputs": [],
   "source": [
    "xgpio.write(0,2000)"
   ]
  },
  {
   "cell_type": "code",
   "execution_count": 96,
   "id": "5dbb3605",
   "metadata": {},
   "outputs": [],
   "source": [
    "xgpio.write(0,15)"
   ]
  },
  {
   "cell_type": "code",
   "execution_count": 80,
   "id": "506b35d7",
   "metadata": {},
   "outputs": [],
   "source": [
    "xgpiol.write(0,50000)\n",
    "xgpioh.write(0,2000000)"
   ]
  },
  {
   "cell_type": "code",
   "execution_count": 9,
   "id": "4512c048",
   "metadata": {},
   "outputs": [],
   "source": [
    "input_buffer = allocate(shape=(8300,), dtype=np.uint32)"
   ]
  },
  {
   "cell_type": "code",
   "execution_count": 15,
   "id": "e2491bf0",
   "metadata": {},
   "outputs": [],
   "source": [
    "dma.recvchannel.transfer(input_buffer)\n",
    "input_buffer1 = input_buffer\n",
    "for i in range(len(input_buffer1)):\n",
    "    if input_buffer1[i]>0.5:\n",
    "        input_buffer1[i] = input_buffer1[i]-1"
   ]
  },
  {
   "cell_type": "code",
   "execution_count": 16,
   "id": "6b13cb6b",
   "metadata": {},
   "outputs": [
    {
     "data": {
      "image/png": "[encoded data removed]",
      "text/plain": [
       "<Figure size 720x216 with 1 Axes>"
      ]
     },
     "metadata": {
      "needs_background": "light"
     },
     "output_type": "display_data"
    }
   ],
   "source": [
    "plt.figure(figsize=(10,3))\n",
    "plt.plot(range(0, 8300), input_buffer1)\n",
    "##plt.xlim(0, 4000)\n",
    "plt.show()"
   ]
  },
  {
   "cell_type": "code",
   "execution_count": 9,
   "id": "2d5ebf14",
   "metadata": {},
   "outputs": [
    {
     "name": "stdout",
     "output_type": "stream",
     "text": [
      "0\n"
     ]
    }
   ],
   "source": [
    "print(np.sum(input_buffer))"
   ]
  },
  {
   "cell_type": "code",
   "execution_count": 23,
   "id": "dc5ddb05",
   "metadata": {},
   "outputs": [
    {
     "data": {
      "image/png": "[encoded data removed]",
      "text/plain": [
       "<Figure size 720x216 with 1 Axes>"
      ]
     },
     "metadata": {
      "needs_background": "light"
     },
     "output_type": "display_data"
    },
    {
     "name": "stdout",
     "output_type": "stream",
     "text": [
      "Suma de histograma =  1495623\n"
     ]
    }
   ],
   "source": [
    "dma.recvchannel.transfer(input_buffer)\n",
    "input_buffer1 = input_buffer\n",
    "for i in range(len(input_buffer1)):\n",
    "    if input_buffer1[i]>0.5:\n",
    "        input_buffer1[i] = input_buffer1[i]-1\n",
    "\n",
    "plt.figure(figsize=(10,3))\n",
    "#plt.bar(range(0, 8300), input_buffer1)#, edgecolor='black')\n",
    "plt.plot(range(0, 8300), input_buffer1)\n",
    "#plt.xlim(200, 300)\n",
    "plt.show()\n",
    "\n",
    "#print(\"Numero de conteos = \", xgpio.read(8))\n",
    "print(\"Suma de histograma = \", np.sum(input_buffer))"
   ]
  },
  {
   "cell_type": "code",
   "execution_count": 25,
   "id": "d1f4ab2f",
   "metadata": {},
   "outputs": [
    {
     "name": "stdout",
     "output_type": "stream",
     "text": [
      "[25 10  2 ...  0  0  0]\n"
     ]
    }
   ],
   "source": [
    "print(input_buffer)"
   ]
  }
 ],
 "metadata": {
  "kernelspec": {
   "display_name": "Python 3 (ipykernel)",
   "language": "python",
   "name": "python3"
  },
  "language_info": {
   "codemirror_mode": {
    "name": "ipython",
    "version": 3
   },
   "file_extension": ".py",
   "mimetype": "text/x-python",
   "name": "python",
   "nbconvert_exporter": "python",
   "pygments_lexer": "ipython3",
   "version": "3.10.4"
  }
 },
 "nbformat": 4,
 "nbformat_minor": 5
}
