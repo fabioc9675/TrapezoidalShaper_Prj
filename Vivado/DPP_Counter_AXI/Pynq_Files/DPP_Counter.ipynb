{
 "cells": [
  {
   "cell_type": "code",
   "execution_count": 77,
   "id": "237b6c39",
   "metadata": {},
   "outputs": [],
   "source": [
    "from pynq import PL\n",
    "from pynq import Overlay\n",
    "from pynq import allocate\n",
    "\n",
    "import numpy as np\n",
    "import matplotlib.pyplot as plt"
   ]
  },
  {
   "cell_type": "code",
   "execution_count": 78,
   "id": "e2231a56",
   "metadata": {},
   "outputs": [],
   "source": [
    "PL.reset()\n",
    "xadc_stream = Overlay('dpp_counter_2.bit')\n",
    "\n",
    "dma   = xadc_stream.axi_dma_0\n",
    "xgpio = xadc_stream.axi_gpio_0"
   ]
  },
  {
   "cell_type": "code",
   "execution_count": 99,
   "id": "f370ba6a",
   "metadata": {},
   "outputs": [
    {
     "data": {
      "text/plain": [
       "91"
      ]
     },
     "execution_count": 99,
     "metadata": {},
     "output_type": "execute_result"
    }
   ],
   "source": [
    "xgpio.read(8)"
   ]
  },
  {
   "cell_type": "code",
   "execution_count": 80,
   "id": "5dc3b3e1",
   "metadata": {},
   "outputs": [],
   "source": [
    "xgpio.write(0,15)"
   ]
  },
  {
   "cell_type": "code",
   "execution_count": 83,
   "id": "950f3e43",
   "metadata": {},
   "outputs": [],
   "source": [
    "input_buffer = allocate(shape=(1023,), dtype=np.uint32)"
   ]
  },
  {
   "cell_type": "code",
   "execution_count": 100,
   "id": "a1dfeab5",
   "metadata": {},
   "outputs": [],
   "source": [
    "dma.recvchannel.transfer(input_buffer)\n",
    "input_buffer1 = input_buffer\n",
    "for i in range(len(input_buffer1)):\n",
    "    if input_buffer1[i]>0.5:\n",
    "        input_buffer1[i] = input_buffer1[i]-1"
   ]
  },
  {
   "cell_type": "code",
   "execution_count": 94,
   "id": "03ac7957",
   "metadata": {},
   "outputs": [
    {
     "data": {
      "image/png": "[encoded data removed]",
      "text/plain": [
       "<Figure size 720x216 with 1 Axes>"
      ]
     },
     "metadata": {
      "needs_background": "light"
     },
     "output_type": "display_data"
    }
   ],
   "source": [
    "plt.figure(figsize=(10,3))\n",
    "plt.plot(range(0, 1023), input_buffer1)\n",
    "plt.xlim(200, 400)\n",
    "plt.show()"
   ]
  },
  {
   "cell_type": "code",
   "execution_count": 101,
   "id": "a4c4241e",
   "metadata": {},
   "outputs": [
    {
     "name": "stdout",
     "output_type": "stream",
     "text": [
      "72\n"
     ]
    }
   ],
   "source": [
    "print(np.sum(input_buffer))"
   ]
  }
 ],
 "metadata": {
  "kernelspec": {
   "display_name": "Python 3 (ipykernel)",
   "language": "python",
   "name": "python3"
  },
  "language_info": {
   "codemirror_mode": {
    "name": "ipython",
    "version": 3
   },
   "file_extension": ".py",
   "mimetype": "text/x-python",
   "name": "python",
   "nbconvert_exporter": "python",
   "pygments_lexer": "ipython3",
   "version": "3.10.4"
  }
 },
 "nbformat": 4,
 "nbformat_minor": 5
}
